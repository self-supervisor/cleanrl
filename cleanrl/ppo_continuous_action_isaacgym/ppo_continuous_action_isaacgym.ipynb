{
 "cells": [
  {
   "cell_type": "code",
   "execution_count": 1,
   "metadata": {},
   "outputs": [
    {
     "name": "stdout",
     "output_type": "stream",
     "text": [
      "Importing module 'gym_38' (/home/amavorpa/isaacgym/python/isaacgym/_bindings/linux-x86_64/gym_38.so)\n",
      "Setting GYM_USD_PLUG_INFO_PATH to /home/amavorpa/isaacgym/python/isaacgym/_bindings/linux-x86_64/usd/plugInfo.json\n"
     ]
    }
   ],
   "source": [
    "import argparse\n",
    "import os\n",
    "import random\n",
    "import time\n",
    "from distutils.util import strtobool\n",
    "\n",
    "import gym\n",
    "import isaacgym  # noqa\n",
    "import isaacgymenvs\n",
    "import torch\n",
    "import torch.nn as nn\n",
    "import numpy as np\n",
    "from custom_layers import BayesianLinear\n",
    "from ppo_continuous_action_isaacgym import layer_init\n",
    "from torch.distributions.normal import Normal\n",
    "from copy import deepcopy\n",
    "\n",
    "def layer_init(layer, std=np.sqrt(2), bias_const=0.0):\n",
    "    torch.nn.init.orthogonal_(layer.weight, std)\n",
    "    torch.nn.init.constant_(layer.bias, bias_const)\n",
    "    return layer\n",
    "\n",
    "class Agent(nn.Module):\n",
    "    def __init__(self, envs):\n",
    "        super().__init__()\n",
    "        self.critic = nn.Sequential(\n",
    "            layer_init(nn.Linear(np.array(envs.single_observation_space.shape).prod(), 256)),\n",
    "            nn.Tanh(),\n",
    "            layer_init(nn.Linear(256, 256)),\n",
    "            nn.Tanh(),\n",
    "            layer_init(nn.Linear(256, 1), std=1.0),\n",
    "        )\n",
    "        self.actor_mean = nn.Sequential(\n",
    "            layer_init(nn.Linear(np.array(envs.single_observation_space.shape).prod(), 256)),\n",
    "            nn.Tanh(),\n",
    "            layer_init(nn.Linear(256, 256)),\n",
    "            nn.Tanh(),\n",
    "            layer_init(nn.Linear(256, np.prod(envs.single_action_space.shape)), std=0.01),\n",
    "        )\n",
    "        self.actor_logstd = nn.Parameter(torch.zeros(1, np.prod(envs.single_action_space.shape)))\n",
    "\n",
    "    def get_value(self, x):\n",
    "        return self.critic(x)\n",
    "\n",
    "    def get_action_and_value(self, x, action=None):\n",
    "        action_mean = self.actor_mean(x)\n",
    "        action_logstd = self.actor_logstd.expand_as(action_mean)\n",
    "        action_std = torch.exp(action_logstd)\n",
    "        probs = Normal(action_mean, action_std)\n",
    "        if action is None:\n",
    "            action = probs.sample()\n",
    "        return action, probs.log_prob(action).sum(1), probs.entropy().sum(1), self.critic(x)\n",
    "\n",
    "class SampledAgent(Agent):\n",
    "    def __init__(self, envs, critic, actor_mean, actor_logstd):\n",
    "        super().__init__(envs=envs)\n",
    "        self.critic = critic\n",
    "        self.actor_mean = actor_mean\n",
    "        self.actor_logstd = actor_logstd\n",
    "\n",
    "class BayesianAgent(nn.Module):\n",
    "    def __init__(self, envs, number_of_cell_types):\n",
    "        super().__init__()\n",
    "        self.critic = nn.Sequential(\n",
    "            BayesianLinear(np.array(envs.single_observation_space.shape).prod(), 256, neuron_types_in=number_of_cell_types, neuron_types_out=number_of_cell_types),\n",
    "            nn.Tanh(),\n",
    "            BayesianLinear(256, 256, neuron_types_in=number_of_cell_types, neuron_types_out=number_of_cell_types),\n",
    "            nn.Tanh(),\n",
    "            # BayesianLinear(256, 1, neuron_types_in=number_of_cell_types, neuron_types_out=number_of_cell_types),\n",
    "            layer_init(nn.Linear(256, 1), std=1.0),\n",
    "        )\n",
    "        self.actor_mean = nn.Sequential(\n",
    "            BayesianLinear(np.array(envs.single_observation_space.shape).prod(), 256, neuron_types_in=number_of_cell_types, neuron_types_out=number_of_cell_types),\n",
    "            nn.Tanh(),\n",
    "            BayesianLinear(256, 256, neuron_types_in=number_of_cell_types, neuron_types_out=number_of_cell_types),\n",
    "            nn.Tanh(),\n",
    "            # BayesianLinear(256, np.prod(envs.single_action_space.shape), neuron_types_in=number_of_cell_types, neuron_types_out=number_of_cell_types),\n",
    "            layer_init(nn.Linear(256, np.prod(envs.single_action_space.shape)), std=0.01),\n",
    "        )\n",
    "        self.actor_logstd = nn.Parameter(torch.zeros(1, np.prod(envs.single_action_space.shape)))\n",
    "        self.envs = envs\n",
    "\n",
    "    def get_value(self, x):\n",
    "        return self.critic(x)\n",
    "\n",
    "    def get_action_and_value(self, x, action=None):\n",
    "        action_mean = self.actor_mean(x)\n",
    "        action_logstd = self.actor_logstd.expand_as(action_mean)\n",
    "        action_std = torch.exp(action_logstd)\n",
    "        probs = Normal(action_mean, action_std)\n",
    "        if action is None:\n",
    "            action = probs.sample()\n",
    "        return action, probs.log_prob(action).sum(1), probs.entropy().sum(1), self.critic(x)\n",
    "\n",
    "    def construct_vanilla_layer(self, weights, biases):\n",
    "        layer = nn.Linear(weights.shape[1], weights.shape[0], bias=True)\n",
    "        layer.weight.data = weights\n",
    "        layer.bias.data = biases\n",
    "        return layer\n",
    "\n",
    "    def sample_vanilla_agent(\n",
    "        self\n",
    "    ):\n",
    "        actor_mean_layers = []\n",
    "        critic_layers = []\n",
    "        for _, a_layer in enumerate(self.actor_mean):\n",
    "            if type(a_layer) == BayesianLinear:\n",
    "                actor_mean_layers.append(\n",
    "                    self.construct_vanilla_layer(\n",
    "                        a_layer.weight_sampler.sample(),\n",
    "                        a_layer.bias_sampler.sample(),\n",
    "                    )\n",
    "                )\n",
    "                actor_mean_layers.append(nn.Tanh())\n",
    "            elif type(a_layer) == nn.Linear:\n",
    "                actor_mean_layers.append(deepcopy(a_layer))\n",
    "\n",
    "        for _, a_layer in enumerate(self.critic):\n",
    "            if type(a_layer) == BayesianLinear:\n",
    "                critic_layers.append(\n",
    "                    self.construct_vanilla_layer(\n",
    "                        a_layer.weight_sampler.sample(),\n",
    "                        a_layer.bias_sampler.sample(),\n",
    "                    )\n",
    "                )\n",
    "                critic_layers.append(nn.Tanh())\n",
    "            elif type(a_layer) == nn.Linear:\n",
    "                critic_layers.append(deepcopy(a_layer))\n",
    "\n",
    "        actor_mean = nn.Sequential(*actor_mean_layers)\n",
    "        actor_logstd = deepcopy(self.actor_logstd)\n",
    "        critic = nn.Sequential(*critic_layers)\n",
    "        vanilla_agent = SampledAgent(self.envs, critic, actor_mean, actor_logstd)\n",
    "        return vanilla_agent"
   ]
  },
  {
   "cell_type": "code",
   "execution_count": 2,
   "metadata": {},
   "outputs": [
    {
     "name": "stdout",
     "output_type": "stream",
     "text": [
      "PyTorch version 2.1.1+cu121\n",
      "Device count 2\n",
      "/home/amavorpa/isaacgym/python/isaacgym/_bindings/src/gymtorch\n"
     ]
    },
    {
     "name": "stderr",
     "output_type": "stream",
     "text": [
      "Using /home/amavorpa/.cache/torch_extensions/py38_cu121 as PyTorch extensions root...\n",
      "Emitting ninja build file /home/amavorpa/.cache/torch_extensions/py38_cu121/gymtorch/build.ninja...\n",
      "Building extension module gymtorch...\n",
      "Allowing ninja to set a default number of workers... (overridable by setting the environment variable MAX_JOBS=N)\n"
     ]
    },
    {
     "name": "stdout",
     "output_type": "stream",
     "text": [
      "ninja: no work to do.\n"
     ]
    },
    {
     "name": "stderr",
     "output_type": "stream",
     "text": [
      "Loading extension module gymtorch...\n",
      "2023-11-30 18:13:57,990 - INFO - logger - logger initialized\n",
      "<unknown>:3: DeprecationWarning: invalid escape sequence \\*\n",
      "/home/amavorpa/isaacgym/python/isaacgym/torch_utils.py:135: DeprecationWarning: `np.float` is a deprecated alias for the builtin `float`. To silence this warning, use `float` by itself. Doing this will not modify any behavior and is safe. If you specifically wanted the numpy scalar type, use `np.float64` here.\n",
      "Deprecated in NumPy 1.20; for more details and guidance: https://numpy.org/devdocs/release/1.20.0-notes.html#deprecations\n",
      "  def get_axis_params(value, axis_idx, x_value=0., dtype=np.float, n_dims=3):\n",
      "/home/amavorpa/anaconda3/envs/isaac/lib/python3.8/site-packages/networkx/classes/graph.py:23: DeprecationWarning: Using or importing the ABCs from 'collections' instead of from 'collections.abc' is deprecated since Python 3.3, and in 3.10 it will stop working\n",
      "  from collections import Mapping\n",
      "/home/amavorpa/anaconda3/envs/isaac/lib/python3.8/site-packages/networkx/classes/reportviews.py:95: DeprecationWarning: Using or importing the ABCs from 'collections' instead of from 'collections.abc' is deprecated since Python 3.3, and in 3.10 it will stop working\n",
      "  from collections import Mapping, Set, Iterable\n"
     ]
    },
    {
     "name": "stdout",
     "output_type": "stream",
     "text": [
      "Error: FBX library failed to load - importing FBX data will not succeed. Message: No module named 'fbx'\n",
      "FBX tools must be installed from https://help.autodesk.com/view/FBX/2020/ENU/?guid=FBX_Developer_Help_scripting_with_python_fbx_installing_python_fbx_html\n"
     ]
    },
    {
     "name": "stderr",
     "output_type": "stream",
     "text": [
      "/home/amavorpa/anaconda3/envs/isaac/lib/python3.8/site-packages/networkx/readwrite/graphml.py:346: DeprecationWarning: `np.int` is a deprecated alias for the builtin `int`. To silence this warning, use `int` by itself. Doing this will not modify any behavior and is safe. When replacing `np.int`, you may wish to use e.g. `np.int64` or `np.int32` to specify the precision. If you wish to review your current use, check the release note link for additional information.\n",
      "Deprecated in NumPy 1.20; for more details and guidance: https://numpy.org/devdocs/release/1.20.0-notes.html#deprecations\n",
      "  (np.int, \"int\"), (np.int8, \"int\"),\n",
      "/home/amavorpa/IsaacGymEnvs/isaacgymenvs/__init__.py:35: UserWarning: \n",
      "The version_base parameter is not specified.\n",
      "Please specify a compatability version level, or None.\n",
      "Will assume defaults for version 1.1\n",
      "  with initialize(config_path=\"./cfg\"):\n",
      "/home/amavorpa/anaconda3/envs/isaac/lib/python3.8/site-packages/gym/spaces/box.py:84: UserWarning: \u001b[33mWARN: Box bound precision lowered by casting to float32\u001b[0m\n",
      "  logger.warn(f\"Box bound precision lowered by casting to {self.dtype}\")\n",
      "/home/amavorpa/IsaacGymEnvs/isaacgymenvs/tasks/anymal.py:171: DeprecationWarning: an integer is required (got type isaacgym._bindings.linux-x86_64.gym_38.DofDriveMode).  Implicit conversion to integers using __int__ is deprecated, and may be removed in a future version of Python.\n",
      "  asset_options.default_dof_drive_mode = gymapi.DOF_MODE_NONE\n"
     ]
    },
    {
     "name": "stdout",
     "output_type": "stream",
     "text": [
      "[Warning] [carb.gym.plugin] useGpu is set, forcing single scene (0 subscenes)\n",
      "Not connected to PVD\n",
      "+++ Using GPU PhysX\n",
      "Physics Engine: PhysX\n",
      "Physics Device: cuda:0\n",
      "GPU Pipeline: enabled\n"
     ]
    },
    {
     "name": "stderr",
     "output_type": "stream",
     "text": [
      "[Error] [carb.windowing-glfw.plugin] GLFW initialization failed.\n",
      "[Error] [carb.windowing-glfw.plugin] GLFW window creation failed!\n",
      "[Error] [carb.gym.plugin] Failed to create Window in CreateGymViewerInternal\n"
     ]
    }
   ],
   "source": [
    "envs = isaacgymenvs.make(\n",
    "    seed=1,\n",
    "    task=\"Anymal\",\n",
    "    num_envs=4096 * 2,\n",
    "    sim_device=\"cuda:0\",\n",
    "    rl_device=\"cuda:0\",\n",
    "    graphics_device_id=0,\n",
    "    headless=False if torch.cuda.is_available() else True,\n",
    "    multi_gpu=False,\n",
    "    virtual_screen_capture=False,\n",
    "    force_render=False)\n",
    "\n",
    "from ppo_continuous_action_isaacgym import ExtractObsWrapper, RecordEpisodeStatisticsTorch\n",
    "\n",
    "device = torch.device(\"cuda\")\n",
    "envs = ExtractObsWrapper(envs)\n",
    "envs = RecordEpisodeStatisticsTorch(envs, device)\n",
    "envs.single_action_space = envs.action_space\n",
    "envs.single_observation_space = envs.observation_space\n",
    "assert isinstance(envs.single_action_space, gym.spaces.Box), \"only continuous action space is supported\"\n",
    "agent = BayesianAgent(envs=envs, number_of_cell_types=256).cuda()\n",
    "\n",
    "sampled_agent = agent.sample_vanilla_agent()"
   ]
  },
  {
   "cell_type": "code",
   "execution_count": null,
   "metadata": {},
   "outputs": [],
   "source": [
    "envs = isaacgymenvs.make(\n",
    "    seed=1,\n",
    "    task=\"Anymal\",\n",
    "    num_envs=4096 * 2,\n",
    "    sim_device=\"cuda:0\",\n",
    "    rl_device=\"cuda:0\",\n",
    "    graphics_device_id=0,\n",
    "    headless=False if torch.cuda.is_available() else True,\n",
    "    multi_gpu=False,\n",
    "    virtual_screen_capture=False,\n",
    "    force_render=False)\n",
    "\n",
    "from ppo_continuous_action_isaacgym import ExtractObsWrapper, RecordEpisodeStatisticsTorch\n",
    "\n",
    "device = torch.device(\"cuda\")\n",
    "envs = ExtractObsWrapper(envs)\n",
    "envs = RecordEpisodeStatisticsTorch(envs, device)\n",
    "envs.single_action_space = envs.action_space\n",
    "envs.single_observation_space = envs.observation_space\n",
    "assert isinstance(envs.single_action_space, gym.spaces.Box), \"only continuous action space is supported\"\n",
    "agent = BayesianAgent(envs=envs, number_of_cell_types=256).cuda()\n",
    "\n",
    "sampled_agent = agent.sample_vanilla_agent()"
   ]
  }
 ],
 "metadata": {
  "kernelspec": {
   "display_name": "isaac",
   "language": "python",
   "name": "python3"
  },
  "language_info": {
   "codemirror_mode": {
    "name": "ipython",
    "version": 3
   },
   "file_extension": ".py",
   "mimetype": "text/x-python",
   "name": "python",
   "nbconvert_exporter": "python",
   "pygments_lexer": "ipython3",
   "version": "3.8.18"
  }
 },
 "nbformat": 4,
 "nbformat_minor": 2
}
